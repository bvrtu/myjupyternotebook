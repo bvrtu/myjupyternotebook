{
 "cells": [
  {
   "cell_type": "markdown",
   "id": "e165dbca-091d-456e-b1bd-e26640e7e78d",
   "metadata": {},
   "source": [
    "# Data Science Final Project"
   ]
  },
  {
   "cell_type": "markdown",
   "id": "b73de698-be1c-40c5-ad63-b66ce274b26b",
   "metadata": {},
   "source": [
    "## Introduction  \n",
    "This notebook demonstrates key aspects of data science, including the use of various programming languages and libraries. \n",
    "We will explore arithmetic expressions, data conversion, and more."
   ]
  },
  {
   "cell_type": "markdown",
   "id": "d381da6e-5fdd-4177-90ac-5893fa7a1795",
   "metadata": {},
   "source": [
    "## Data Science Languages  \n",
    "- Python\n",
    "- R\n",
    "- SQL\n",
    "- Scala\n",
    "- Java\n",
    "- C++\n",
    "- Julia\n",
    "- JavaScript\n",
    "- PHP\n",
    "- Go\n",
    "- Ruby\n",
    "- Visual Basic"
   ]
  },
  {
   "cell_type": "markdown",
   "id": "50565049-3f1b-4003-ac8a-af1a133b38d9",
   "metadata": {},
   "source": [
    "## Data Science Libraries  \n",
    "- Pandas\n",
    "- Numpy\n",
    "- Matplotlib\n",
    "- Seaborn\n",
    "- Scikit-learn\n",
    "- Keras\n",
    "- TensorFlow\n",
    "- PyTorch\n",
    "- Apache Spark\n",
    "- Vegas\n",
    "- Big DL\n",
    "- Ggplot2"
   ]
  },
  {
   "cell_type": "markdown",
   "id": "24382158-de4f-4f35-9989-746983cdfa86",
   "metadata": {},
   "source": [
    "## Data Science Tools  \n",
    "| Tool             | Purpose                                 |\n",
    "|------------------|-----------------------------------------|\n",
    "| Jupyter Notebook | Interactive coding and analysis         |\n",
    "| GitHub           | Version control and collaboration       |\n",
    "| Python           | Programming for data analysis           |\n",
    "| RStudio          | IDE for R language                      |\n"
   ]
  },
  {
   "cell_type": "markdown",
   "id": "06b1a2cc-b321-4e28-93ea-e33988cf0274",
   "metadata": {},
   "source": [
    "## Arithmetic Expression Examples  \n",
    "In this section, we will explore simple arithmetic operations such as addition, subtraction, multiplication, and division."
   ]
  },
  {
   "cell_type": "code",
   "execution_count": 2,
   "id": "420c182d-9c93-4029-b98f-4e502ffac60f",
   "metadata": {},
   "outputs": [
    {
     "data": {
      "text/plain": [
       "55"
      ]
     },
     "execution_count": 2,
     "metadata": {},
     "output_type": "execute_result"
    }
   ],
   "source": [
    "# Multiply and add numbers\n",
    "a = 5\n",
    "b = 10\n",
    "\n",
    "result = (a * b) + 5\n",
    "\n",
    "# Printing result... It should print 55.\n",
    "result"
   ]
  },
  {
   "cell_type": "code",
   "execution_count": 3,
   "id": "e4b15e34-e285-4e84-bfa6-3e3db2feb5e9",
   "metadata": {},
   "outputs": [
    {
     "data": {
      "text/plain": [
       "2"
      ]
     },
     "execution_count": 3,
     "metadata": {},
     "output_type": "execute_result"
    }
   ],
   "source": [
    "# Convert minutes to hours\n",
    "minutes = 150\n",
    "hours = minutes // 60\n",
    "\n",
    "# Printing result\n",
    "hours"
   ]
  },
  {
   "cell_type": "markdown",
   "id": "5c08db69-ee54-4a75-b9fe-5fe937152f1e",
   "metadata": {},
   "source": [
    "## Objectives  \n",
    "- Understand basic data science languages and libraries  \n",
    "- Learn how to perform basic arithmetic and data conversion  \n",
    "- Share the project on GitHub"
   ]
  },
  {
   "cell_type": "code",
   "execution_count": null,
   "id": "b7b08ff9-de30-41db-a55c-1bda1bee518a",
   "metadata": {},
   "outputs": [],
   "source": []
  }
 ],
 "metadata": {
  "kernelspec": {
   "display_name": "Python 3 (ipykernel)",
   "language": "python",
   "name": "python3"
  },
  "language_info": {
   "codemirror_mode": {
    "name": "ipython",
    "version": 3
   },
   "file_extension": ".py",
   "mimetype": "text/x-python",
   "name": "python",
   "nbconvert_exporter": "python",
   "pygments_lexer": "ipython3",
   "version": "3.12.3"
  }
 },
 "nbformat": 4,
 "nbformat_minor": 5
}
